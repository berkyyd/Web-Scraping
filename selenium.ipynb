{
 "cells": [
  {
   "cell_type": "code",
   "execution_count": null,
   "id": "2eb8bca9-f075-400c-ae71-e87f4b3a007e",
   "metadata": {},
   "outputs": [],
   "source": [
    "!pip install selenium"
   ]
  },
  {
   "cell_type": "code",
   "execution_count": null,
   "id": "176ba124-b709-471d-a672-ac60d96ffcec",
   "metadata": {},
   "outputs": [],
   "source": [
    "from selenium import webdriver\n",
    "from selenium.webdriver.chrome.service import Service\n",
    "from selenium.webdriver.common.by import By\n",
    "\n",
    "url = \"https://books.toscrape.com/\"\n",
    "\n",
    "# Güncellenmiş ChromeDriver yolu\n",
    "chrome_driver_path = \"C:/path/chromedriver.exe\"\n",
    "\n",
    "options = webdriver.ChromeOptions()\n",
    "options.add_argument(\"--headless\")\n",
    "\n",
    "# Service objesi ile başlat\n",
    "service = Service(chrome_driver_path)\n",
    "driver = webdriver.Chrome(service=service, options=options)\n",
    "\n"
   ]
  },
  {
   "cell_type": "code",
   "execution_count": null,
   "id": "db0fa576-2b5b-4ed0-ba85-78cf5652cacd",
   "metadata": {},
   "outputs": [],
   "source": [
    "driver.get(url)\n",
    "list_items = driver.find_elements(By.CSS_SELECTOR, 'li')\n",
    "print(len(list_items))"
   ]
  },
  {
   "cell_type": "markdown",
   "id": "dee26506-4061-4d79-9c35-1212d6a2ef00",
   "metadata": {},
   "source": [
    "İlk eleman"
   ]
  },
  {
   "cell_type": "code",
   "execution_count": null,
   "id": "70d8e59b-f305-42b1-a4ef-21757edf0cf1",
   "metadata": {},
   "outputs": [],
   "source": [
    "driver.get(url)\n",
    "list_item = driver.find_element(By.CSS_SELECTOR, 'li').text\n",
    "print(list_item)"
   ]
  },
  {
   "cell_type": "markdown",
   "id": "f41de1f8-96d5-42ff-a26b-c13ba07f9ea1",
   "metadata": {},
   "source": [
    "Sınıf ismi ile element seçme"
   ]
  },
  {
   "cell_type": "code",
   "execution_count": null,
   "id": "bc04d8ae-2e66-4c87-af79-7bd8f4fddf59",
   "metadata": {},
   "outputs": [],
   "source": [
    "driver.get(url)\n",
    "prices = driver.find_elements(By.CSS_SELECTOR, 'p.price_color')\n",
    "for price in prices:\n",
    "    print(price.text)"
   ]
  },
  {
   "cell_type": "markdown",
   "id": "2a16891b-2a86-45ac-bbba-61f8346d3159",
   "metadata": {},
   "source": [
    "ID ile element seçme"
   ]
  },
  {
   "cell_type": "code",
   "execution_count": null,
   "id": "a92847fb-4818-4d17-b4ab-b20fab42b86d",
   "metadata": {},
   "outputs": [],
   "source": [
    "driver.get(url)\n",
    "body = driver.find_element(By.CSS_SELECTOR, 'body#default')\n",
    "print(body.text)"
   ]
  },
  {
   "cell_type": "markdown",
   "id": "59d2ae48-121a-4856-9da1-455fb36266b8",
   "metadata": {},
   "source": [
    "Özellik kullanarak element seçme"
   ]
  },
  {
   "cell_type": "code",
   "execution_count": null,
   "id": "db9a31ec-33f8-48e7-b2e9-61221a5ebb07",
   "metadata": {},
   "outputs": [],
   "source": [
    "driver.get(url)\n",
    "alert = driver.find_element(By.CSS_SELECTOR, 'div[role=\"alert\"]')\n",
    "print(alert.text)"
   ]
  },
  {
   "cell_type": "markdown",
   "id": "b697838b-c625-4e62-ba3e-eb15b1566be7",
   "metadata": {},
   "source": [
    "İç içe element seçme"
   ]
  },
  {
   "cell_type": "code",
   "execution_count": null,
   "id": "bf20b6f8-2164-4c2e-a212-3e07f16c99bb",
   "metadata": {},
   "outputs": [],
   "source": [
    "driver.get(url)\n",
    "img_src = driver.find_element(By.CSS_SELECTOR, 'article.product_pod div a img').get_attribute('src')\n",
    "print(img_src)"
   ]
  },
  {
   "cell_type": "markdown",
   "id": "530cba31-8c4f-4f9e-a6df-8bb8fe5059af",
   "metadata": {},
   "source": [
    "İçinden metin çıkarma"
   ]
  },
  {
   "cell_type": "code",
   "execution_count": null,
   "id": "5cf19c5d-fa05-47c4-aeb6-b3eb1a84f757",
   "metadata": {},
   "outputs": [],
   "source": [
    "driver.get(url)\n",
    "first_text = driver.find_element(By.CSS_SELECTOR, 'article.product_pod')\n",
    "print(first_text.text)"
   ]
  },
  {
   "cell_type": "markdown",
   "id": "e8390ce6-d126-4a67-bdaf-d0f00f5fc052",
   "metadata": {},
   "source": [
    "Özellik çıkarma"
   ]
  },
  {
   "cell_type": "code",
   "execution_count": null,
   "id": "03f7fdbc-dfd4-4e93-ad56-1ccbdd9e7426",
   "metadata": {},
   "outputs": [],
   "source": [
    "driver.get(url)\n",
    "name = driver.find_element(By.CSS_SELECTOR, 'article.product_pod img').get_attribute('alt')\n",
    "print(name)"
   ]
  },
  {
   "cell_type": "markdown",
   "id": "1a4fe9db-8935-4367-a7f9-519e4af189c8",
   "metadata": {},
   "source": [
    "XPATH ile element seçme"
   ]
  },
  {
   "cell_type": "code",
   "execution_count": null,
   "id": "6e696c9b-d551-4ba7-a4ca-c343f0c6e1fc",
   "metadata": {},
   "outputs": [],
   "source": [
    "driver.get(url)\n",
    "list_items = driver.find_elements(By.XPATH, '//li')\n",
    "print(len(list_items))"
   ]
  },
  {
   "cell_type": "code",
   "execution_count": null,
   "id": "1fad627d-a5af-4405-acdf-68f1345c3371",
   "metadata": {},
   "outputs": [],
   "source": [
    "driver.get(url)\n",
    "prices = driver.find_elements(By.XPATH, '//p[@class=\"price_color\"]')\n",
    "for price in prices:\n",
    "    print(price.text)"
   ]
  },
  {
   "cell_type": "markdown",
   "id": "fc8652e0-bd99-4441-b11b-068cdf5eccdd",
   "metadata": {},
   "source": [
    "İçinde metin bulunan elementi seçme"
   ]
  },
  {
   "cell_type": "code",
   "execution_count": null,
   "id": "b7937f8d-10a2-44e3-9b8b-dd0eda122b1f",
   "metadata": {},
   "outputs": [],
   "source": [
    "driver.get(url)\n",
    "next = driver.find_element(By.XPATH, '//a[text()=\"next\"]').get_attribute('href')\n",
    "print(next)"
   ]
  },
  {
   "cell_type": "markdown",
   "id": "ddbb0c11-38d9-4697-915d-3cb4b8b87a56",
   "metadata": {},
   "source": [
    "İç içe elementleri seçme"
   ]
  },
  {
   "cell_type": "code",
   "execution_count": null,
   "id": "b78c51ef-1f89-4cbf-9089-956e774a1e69",
   "metadata": {},
   "outputs": [],
   "source": [
    "driver.get(url)\n",
    "img = driver.find_element(By.XPATH, '//article[@class=\"product_pod\"]/div/a/img').get_attribute('src')\n",
    "print(img)"
   ]
  },
  {
   "cell_type": "markdown",
   "id": "ff88f622-1cdc-4395-9270-3f8b1040f80f",
   "metadata": {},
   "source": [
    "Navigasyon"
   ]
  },
  {
   "cell_type": "markdown",
   "id": "bfa44b99-9c69-4a70-b553-2105d3cc5639",
   "metadata": {},
   "source": [
    "Parent bulma"
   ]
  },
  {
   "cell_type": "code",
   "execution_count": null,
   "id": "0e258eda-77a2-4dd2-823d-7a3f7d04a9e0",
   "metadata": {},
   "outputs": [],
   "source": [
    "driver.get(url)\n",
    "first_book = driver.find_element(By.XPATH, '//article[@class=\"product_pod\"]')\n",
    "first_book_div = first_book.find_element(By.XPATH, './div').get_attribute('class')\n",
    "print(first_book_div)"
   ]
  },
  {
   "cell_type": "code",
   "execution_count": null,
   "id": "1a68dbe1-e7b4-4c1e-8c68-a993e2287dcd",
   "metadata": {},
   "outputs": [],
   "source": [
    "parent = first_book.find_element(By.XPATH, './..')\n",
    "print(parent.tag_name)"
   ]
  },
  {
   "cell_type": "code",
   "execution_count": null,
   "id": "38c5f848-e49a-4b03-b236-4e03d50fbd14",
   "metadata": {},
   "outputs": [],
   "source": [
    "sibling = parent.find_element(By.XPATH, './following-sibling::li[1]')\n",
    "second_book_name = sibling.find_element(By.XPATH, './article/div/a/img').get_attribute('alt')\n",
    "print(second_book_name)"
   ]
  },
  {
   "cell_type": "code",
   "execution_count": null,
   "id": "45292785-1a32-46b7-9e94-ea729796d1a9",
   "metadata": {},
   "outputs": [],
   "source": [
    "driver.get(url)\n",
    "li = 1\n",
    "while True:\n",
    "    book_name = driver.find_element(By.XPATH, f'//article[@class=\"product_pod\"]/../following-sibling::li[{li}]/article/div/a/img').get_attribute('alt')\n",
    "    print(book_name)\n",
    "    li += 1\n",
    "    if li == 20:\n",
    "        break"
   ]
  },
  {
   "cell_type": "markdown",
   "id": "91f0c79f-e257-4cea-a9f7-d27757e4303a",
   "metadata": {},
   "source": [
    "Selenium ile LOGIN"
   ]
  },
  {
   "cell_type": "code",
   "execution_count": null,
   "id": "69ddb60b-60a6-4754-98dc-11609dabd7d3",
   "metadata": {},
   "outputs": [],
   "source": [
    "def login(driver): \n",
    "    login_button = driver.find_element(By.XPATH, '//a[text()=\"Login\"]')\n",
    "    login_button.click()\n",
    "    \n",
    "    username = driver.find_element(By.ID, 'username')\n",
    "    username.send_keys('berkyyd')\n",
    "    \n",
    "    password = driver.find_element(By.ID, 'password')\n",
    "    password.send_keys('berkayd17')\n",
    "    \n",
    "    login = driver.find_element(By.XPATH, '//input[@value=\"Login\"]')\n",
    "    login.click()\n",
    "\n",
    "url = 'https://quotes.toscrape.com/js/'\n",
    "options = webdriver.ChromeOptions()\n",
    "options.add_argument('--start-maximized')\n",
    "options.add_experimental_option('detach', True)\n",
    "driver = webdriver.Chrome(options=options)\n",
    "driver.get(url)\n",
    "\n",
    "login(driver)"
   ]
  },
  {
   "cell_type": "code",
   "execution_count": null,
   "id": "dfa1f542-a513-4206-a1cb-be336a4d4db9",
   "metadata": {},
   "outputs": [],
   "source": [
    "quote_dict = {'quote':[], 'author':[], 'tags':[]}"
   ]
  },
  {
   "cell_type": "code",
   "execution_count": null,
   "id": "c1487e73-15ce-44c8-af15-8e5a358d9dcd",
   "metadata": {},
   "outputs": [],
   "source": [
    "url = 'https://quotes.toscrape.com/js/'\n",
    "options = webdriver.ChromeOptions()\n",
    "options.add_argument('--start-maximized')\n",
    "options.add_experimental_option('detach', True)\n",
    "driver = webdriver.Chrome(options=options)\n",
    "driver.get(url)\n",
    "\n",
    "def scrape_page(driver):\n",
    "    quotes = driver.find_elements(By.CSS_SELECTOR, 'div.quote')\n",
    "    \n",
    "    for element in quotes:\n",
    "        quote = element.find_element(By.CSS_SELECTOR, 'span.text').text\n",
    "        quote_dict['quote'].append(quote)\n",
    "    \n",
    "        author = element.find_element(By.CSS_SELECTOR, 'small.author').text\n",
    "        quote_dict['author'].append(author)\n",
    "    \n",
    "        tag_container = element.find_element(By.CLASS_NAME, 'tags')\n",
    "        a_tags = tag_container.find_elements(By.CSS_SELECTOR, 'a')\n",
    "        tags = ''\n",
    "        for i, a_tag in enumerate(a_tags):\n",
    "            if i == len(a_tags) -1:\n",
    "                tag = a_tag.text\n",
    "            else:\n",
    "                tag = a_tag.text + ','\n",
    "            tags += tag \n",
    "        quote_dict['tags'].append(tags)\n",
    "        \n",
    "\n",
    "scrape_page(driver)"
   ]
  },
  {
   "cell_type": "markdown",
   "id": "b4537be4-278c-43a5-a6f4-03611e096fb8",
   "metadata": {},
   "source": [
    "Sayfaları gezmek"
   ]
  },
  {
   "cell_type": "code",
   "execution_count": null,
   "id": "45c7250f-a53c-476e-90dd-a6442eb3ee11",
   "metadata": {},
   "outputs": [],
   "source": [
    "!pip install pandas openpyxl"
   ]
  },
  {
   "cell_type": "code",
   "execution_count": 53,
   "id": "5e388c66-d3ca-432c-a41f-1b6570bf0db3",
   "metadata": {},
   "outputs": [],
   "source": [
    "import pandas as pd\n",
    "import openpyxl"
   ]
  },
  {
   "cell_type": "code",
   "execution_count": 55,
   "id": "d2b21333-d0a6-454a-9c42-b11f45a2a0d8",
   "metadata": {},
   "outputs": [],
   "source": [
    "url = 'https://quotes.toscrape.com/js/'\n",
    "options = webdriver.ChromeOptions()\n",
    "options.add_argument('--start-maximized')\n",
    "options.add_experimental_option('detach', True)\n",
    "driver = webdriver.Chrome(options=options)\n",
    "driver.get(url)\n",
    "\n",
    "login(driver)\n",
    "while True:\n",
    "    scrape_page(driver)\n",
    "    try:\n",
    "        next_button = driver.find_element(By.CSS_SELECTOR, 'li.next a')\n",
    "        next_button.click()\n",
    "    except:\n",
    "        break\n",
    "\n",
    "df = pd.DataFrame(quote_dict)\n",
    "df.to_excel('quotes.xlsx')"
   ]
  },
  {
   "cell_type": "markdown",
   "id": "3eca4de2-e82f-4749-a16b-0bfd8b4582e4",
   "metadata": {},
   "source": [
    "Sonsuz Scroll"
   ]
  },
  {
   "cell_type": "code",
   "execution_count": 58,
   "id": "3cc2190b-b3af-46e7-afc1-244bfdda877f",
   "metadata": {},
   "outputs": [],
   "source": [
    "from time import sleep"
   ]
  },
  {
   "cell_type": "code",
   "execution_count": 60,
   "id": "3018865e-9ade-477f-9831-9785a755a0ec",
   "metadata": {},
   "outputs": [
    {
     "name": "stdout",
     "output_type": "stream",
     "text": [
      "100\n"
     ]
    }
   ],
   "source": [
    "url = 'https://quotes.toscrape.com/scroll'\n",
    "\n",
    "options = webdriver.ChromeOptions()\n",
    "options.add_argument('--start-maximized')\n",
    "options.add_experimental_option('detach', True)\n",
    "driver = webdriver.Chrome(options=options)\n",
    "driver.get(url)\n",
    "sleep(2)\n",
    "\n",
    "def scroll_bottom():\n",
    "    driver.execute_script('window.scrollTo(0, document.body.scrollHeight);')\n",
    "    sleep(1)\n",
    "old_height = driver.execute_script('return document.body.scrollHeight')\n",
    "\n",
    "while True:\n",
    "    scroll_bottom()\n",
    "    new_height = driver.execute_script('return document.body.scrollHeight')\n",
    "    if new_height == old_height:\n",
    "        break\n",
    "    old_height = new_height\n",
    "\n",
    "quotes = driver.find_elements(By.CSS_SELECTOR, 'div.quote')\n",
    "print(len(quotes))"
   ]
  },
  {
   "cell_type": "markdown",
   "id": "765f434f-e9be-4a7f-bbd0-50e00b9fe2cb",
   "metadata": {},
   "source": [
    "WAITS (Bekleme)"
   ]
  },
  {
   "cell_type": "code",
   "execution_count": 62,
   "id": "01bc8b94-97d9-4f88-b349-b271ac718ecd",
   "metadata": {},
   "outputs": [
    {
     "name": "stdout",
     "output_type": "stream",
     "text": [
      "10\n"
     ]
    }
   ],
   "source": [
    "from selenium.webdriver.support.ui import WebDriverWait\n",
    "from selenium.webdriver.support import expected_conditions as EC\n",
    "\n",
    "\n",
    "url = 'https://quotes.toscrape.com/js-delayed'\n",
    "\n",
    "options = webdriver.ChromeOptions()\n",
    "options.add_argument('--start-maximized')\n",
    "options.add_experimental_option('detach', True)\n",
    "driver = webdriver.Chrome(options=options)\n",
    "driver.implicitly_wait(15) # eleman görene kadar 15 saniye bekle\n",
    "driver.get(url)\n",
    "\n",
    "#WebDriverWait(driver, 15).until(\n",
    " #   EC.presence_of_element_located((By.CSS_SELECTOR, 'div.quote'))  # bu elemanı görene kadar 15 saniye bekle\n",
    "#)\n",
    "\n",
    "quotes = driver.find_elements(By.CSS_SELECTOR, 'div.quote')\n",
    "print(len(quotes))"
   ]
  },
  {
   "cell_type": "markdown",
   "id": "45329242-e0b4-479a-841b-76a57c7a76a6",
   "metadata": {},
   "source": [
    "Actions"
   ]
  },
  {
   "cell_type": "code",
   "execution_count": 63,
   "id": "56ca1b46-7b1a-48a5-ae8e-f2ee04e8a023",
   "metadata": {},
   "outputs": [],
   "source": [
    "# site içerisindeki elementlerle etkileşime girerken hata alınca kullanılır"
   ]
  },
  {
   "cell_type": "code",
   "execution_count": 64,
   "id": "6fcf1b78-f8e0-4afc-ba13-8939bd564081",
   "metadata": {},
   "outputs": [],
   "source": [
    "from selenium.webdriver.common.action_chains import ActionChains\n",
    "url = 'https://quotes.toscrape.com/js'\n",
    "\n",
    "options = webdriver.ChromeOptions()\n",
    "options.add_argument('--start-maximized')\n",
    "options.add_experimental_option('detach', True)\n",
    "driver = webdriver.Chrome(options=options)\n",
    "actions = ActionChains(driver)\n",
    "driver.get(url)\n",
    "\n",
    "next_button = driver.find_element(By.CSS_SELECTOR, 'li.next a')\n",
    "actions.move_to_element(next_button).perform()\n",
    "next_button.click()"
   ]
  }
 ],
 "metadata": {
  "kernelspec": {
   "display_name": "Python 3 (ipykernel)",
   "language": "python",
   "name": "python3"
  },
  "language_info": {
   "codemirror_mode": {
    "name": "ipython",
    "version": 3
   },
   "file_extension": ".py",
   "mimetype": "text/x-python",
   "name": "python",
   "nbconvert_exporter": "python",
   "pygments_lexer": "ipython3",
   "version": "3.13.1"
  }
 },
 "nbformat": 4,
 "nbformat_minor": 5
}
